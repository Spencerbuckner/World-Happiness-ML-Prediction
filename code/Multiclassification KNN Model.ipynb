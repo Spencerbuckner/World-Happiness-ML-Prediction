{
 "cells": [
  {
   "cell_type": "code",
   "execution_count": 19,
   "id": "07fb464d",
   "metadata": {},
   "outputs": [],
   "source": [
    "import pandas as pd\n",
    "import numpy as np\n",
    "import matplotlib.pyplot as plt\n",
    "from sklearn.neighbors import KNeighborsClassifier\n",
    "from sklearn.preprocessing import StandardScaler\n",
    "from sklearn.pipeline import Pipeline\n",
    "from sklearn.model_selection import train_test_split, GridSearchCV\n",
    "from sklearn.metrics import plot_confusion_matrix"
   ]
  },
  {
   "cell_type": "code",
   "execution_count": 20,
   "id": "6ec05b30",
   "metadata": {},
   "outputs": [
    {
     "data": {
      "text/html": [
       "<div>\n",
       "<style scoped>\n",
       "    .dataframe tbody tr th:only-of-type {\n",
       "        vertical-align: middle;\n",
       "    }\n",
       "\n",
       "    .dataframe tbody tr th {\n",
       "        vertical-align: top;\n",
       "    }\n",
       "\n",
       "    .dataframe thead th {\n",
       "        text-align: right;\n",
       "    }\n",
       "</style>\n",
       "<table border=\"1\" class=\"dataframe\">\n",
       "  <thead>\n",
       "    <tr style=\"text-align: right;\">\n",
       "      <th></th>\n",
       "      <th>Unnamed: 0</th>\n",
       "      <th>country</th>\n",
       "      <th>region</th>\n",
       "      <th>year</th>\n",
       "      <th>happiness_score</th>\n",
       "      <th>economy_(gdp_per_capita)</th>\n",
       "      <th>family</th>\n",
       "      <th>health_(life_expectancy)</th>\n",
       "      <th>freedom</th>\n",
       "      <th>trust_(government_corruption)</th>\n",
       "      <th>generosity</th>\n",
       "      <th>dystopia_residual</th>\n",
       "      <th>food_supply_(kcal/capita/day)</th>\n",
       "      <th>crude_birth_rate_(births_per_1,000_population)</th>\n",
       "      <th>deaths_-_unsafe_water_source_per_100k_people</th>\n",
       "      <th>deaths_-_conflict_and_terrorism</th>\n",
       "    </tr>\n",
       "  </thead>\n",
       "  <tbody>\n",
       "    <tr>\n",
       "      <th>0</th>\n",
       "      <td>0</td>\n",
       "      <td>Switzerland</td>\n",
       "      <td>Western Europe</td>\n",
       "      <td>2015</td>\n",
       "      <td>7.587</td>\n",
       "      <td>1.39651</td>\n",
       "      <td>1.34951</td>\n",
       "      <td>0.94143</td>\n",
       "      <td>0.66557</td>\n",
       "      <td>0.41978</td>\n",
       "      <td>0.29678</td>\n",
       "      <td>2.51738</td>\n",
       "      <td>3460.0</td>\n",
       "      <td>10.364</td>\n",
       "      <td>0.030155</td>\n",
       "      <td>0.0</td>\n",
       "    </tr>\n",
       "    <tr>\n",
       "      <th>1</th>\n",
       "      <td>1</td>\n",
       "      <td>Iceland</td>\n",
       "      <td>Western Europe</td>\n",
       "      <td>2015</td>\n",
       "      <td>7.561</td>\n",
       "      <td>1.30232</td>\n",
       "      <td>1.40223</td>\n",
       "      <td>0.94784</td>\n",
       "      <td>0.62877</td>\n",
       "      <td>0.14145</td>\n",
       "      <td>0.43630</td>\n",
       "      <td>2.70201</td>\n",
       "      <td>3548.0</td>\n",
       "      <td>12.933</td>\n",
       "      <td>0.021300</td>\n",
       "      <td>0.0</td>\n",
       "    </tr>\n",
       "  </tbody>\n",
       "</table>\n",
       "</div>"
      ],
      "text/plain": [
       "   Unnamed: 0      country          region  year  happiness_score  \\\n",
       "0           0  Switzerland  Western Europe  2015            7.587   \n",
       "1           1      Iceland  Western Europe  2015            7.561   \n",
       "\n",
       "   economy_(gdp_per_capita)   family  health_(life_expectancy)  freedom  \\\n",
       "0                   1.39651  1.34951                   0.94143  0.66557   \n",
       "1                   1.30232  1.40223                   0.94784  0.62877   \n",
       "\n",
       "   trust_(government_corruption)  generosity  dystopia_residual  \\\n",
       "0                        0.41978     0.29678            2.51738   \n",
       "1                        0.14145     0.43630            2.70201   \n",
       "\n",
       "   food_supply_(kcal/capita/day)  \\\n",
       "0                         3460.0   \n",
       "1                         3548.0   \n",
       "\n",
       "   crude_birth_rate_(births_per_1,000_population)  \\\n",
       "0                                          10.364   \n",
       "1                                          12.933   \n",
       "\n",
       "   deaths_-_unsafe_water_source_per_100k_people  \\\n",
       "0                                      0.030155   \n",
       "1                                      0.021300   \n",
       "\n",
       "   deaths_-_conflict_and_terrorism  \n",
       "0                              0.0  \n",
       "1                              0.0  "
      ]
     },
     "execution_count": 20,
     "metadata": {},
     "output_type": "execute_result"
    }
   ],
   "source": [
    "df = pd.read_csv('../Data/data_cleaned.csv')\n",
    "df.head(2)"
   ]
  },
  {
   "cell_type": "code",
   "execution_count": 21,
   "id": "c7eac42e",
   "metadata": {},
   "outputs": [],
   "source": [
    "df = df.drop(columns=['Unnamed: 0'])"
   ]
  },
  {
   "cell_type": "code",
   "execution_count": 22,
   "id": "ef5ffa8a",
   "metadata": {},
   "outputs": [
    {
     "data": {
      "text/plain": [
       "Sub-Saharan Africa                 117\n",
       "Central and Eastern Europe          87\n",
       "Latin America and Caribbean         68\n",
       "Western Europe                      63\n",
       "Middle East and Northern Africa     58\n",
       "Southeastern Asia                   26\n",
       "Southern Asia                       21\n",
       "Eastern Asia                        18\n",
       "Australia and New Zealand            6\n",
       "North America                        6\n",
       "Name: region, dtype: int64"
      ]
     },
     "execution_count": 22,
     "metadata": {},
     "output_type": "execute_result"
    }
   ],
   "source": [
    "df['region'].value_counts()"
   ]
  },
  {
   "cell_type": "code",
   "execution_count": 23,
   "id": "16714499",
   "metadata": {},
   "outputs": [],
   "source": [
    "country_to_numeric = {'Sub-Saharan Africa': 1, 'Central and Eastern Europe': 2, 'Latin America and Caribbean': 3, \n",
    "                     'Western Europe': 4, 'Middle East and Northern Africa': 5, 'Southeastern Asia': 6,\n",
    "                     'Southern Asia': 7, 'Eastern Asia': 8, 'North America': 9, 'Australia and New Zealand': 10}\n",
    "\n",
    "df['region'] = df['region'].replace(country_to_numeric)"
   ]
  },
  {
   "cell_type": "code",
   "execution_count": 24,
   "id": "0989c8ea",
   "metadata": {},
   "outputs": [],
   "source": [
    "X = df.drop(columns=['country', 'region'])\n",
    "Y = df['region']\n",
    "\n",
    "X_train, X_test, y_train, y_test = train_test_split(X, Y, random_state = 42, stratify=Y)"
   ]
  },
  {
   "cell_type": "code",
   "execution_count": 25,
   "id": "5706d899",
   "metadata": {},
   "outputs": [],
   "source": [
    "pipe = Pipeline([\n",
    "    ('ss', StandardScaler(with_mean=False)),\n",
    "    ('model', KNeighborsClassifier())\n",
    "])"
   ]
  },
  {
   "cell_type": "code",
   "execution_count": 26,
   "id": "75be30ee",
   "metadata": {},
   "outputs": [
    {
     "name": "stdout",
     "output_type": "stream",
     "text": [
      "0.7016901408450704\n"
     ]
    },
    {
     "data": {
      "text/plain": [
       "{'model__algorithm': 'auto',\n",
       " 'model__leaf_size': 15,\n",
       " 'model__n_neighbors': 3,\n",
       " 'model__weights': 'distance'}"
      ]
     },
     "execution_count": 26,
     "metadata": {},
     "output_type": "execute_result"
    }
   ],
   "source": [
    "params = {\n",
    "    'model__n_neighbors': [1, 2, 3, 4, 5, 6, 7, 8, 9, 10],\n",
    "    'model__weights': ['uniform', 'distance'],\n",
    "    'model__leaf_size': [15, 30, 45],\n",
    "    'model__algorithm': ['auto', 'ball_tree', 'kd_tree', 'brute']\n",
    "}\n",
    "gs = GridSearchCV(pipe, param_grid=params)\n",
    "gs.fit(X_train, y_train)\n",
    "print(gs.best_score_)\n",
    "gs.best_params_"
   ]
  },
  {
   "cell_type": "code",
   "execution_count": 27,
   "id": "5e1b3fbe",
   "metadata": {},
   "outputs": [
    {
     "data": {
      "image/png": "[encoded data removed]",
      "text/plain": [
       "<Figure size 864x864 with 2 Axes>"
      ]
     },
     "metadata": {
      "needs_background": "light"
     },
     "output_type": "display_data"
    }
   ],
   "source": [
    "fig, ax = plt.subplots(figsize=(12, 12))\n",
    "plot_confusion_matrix(gs, X_test, y_test, display_labels=['Sub-Saharan Africa', 'Central and Eastern Europe', 'Latin America and Caribbean', \n",
    "                     'Western Europe', 'Middle East and Northern Africa', 'Southeastern Asia',\n",
    "                     'Southern Asia', 'Eastern Asia', 'North America', 'Australia and New Zealand'], ax=ax)\n",
    "plt.xticks(rotation=45)\n",
    "plt.title('KNN Confusion Matrix', size=15)\n",
    "plt.xlabel('Predicted Label', size=12)\n",
    "plt.ylabel('True Label', size=12);\n",
    "plt.savefig('../Visualizations/KNNConfMatr.png', bbox_inches='tight')"
   ]
  },
  {
   "cell_type": "code",
   "execution_count": 28,
   "id": "0108c558",
   "metadata": {},
   "outputs": [],
   "source": [
    "y_pred = gs.predict(X_test)"
   ]
  },
  {
   "cell_type": "code",
   "execution_count": 29,
   "id": "4bcdccdf",
   "metadata": {},
   "outputs": [
    {
     "name": "stdout",
     "output_type": "stream",
     "text": [
      "\n",
      "Accuracy: 0.71\n",
      "\n",
      "Micro Precision: 0.71\n",
      "Micro Recall: 0.71\n",
      "Micro F1-score: 0.71\n",
      "\n",
      "Macro Precision: 0.56\n",
      "Macro Recall: 0.51\n",
      "Macro F1-score: 0.53\n",
      "\n",
      "Weighted Precision: 0.71\n",
      "Weighted Recall: 0.71\n",
      "Weighted F1-score: 0.71\n"
     ]
    },
    {
     "name": "stderr",
     "output_type": "stream",
     "text": [
      "C:\\Users\\Spencer\\anaconda3\\lib\\site-packages\\sklearn\\metrics\\_classification.py:1245: UndefinedMetricWarning: Precision is ill-defined and being set to 0.0 in labels with no predicted samples. Use `zero_division` parameter to control this behavior.\n",
      "  _warn_prf(average, modifier, msg_start, len(result))\n",
      "C:\\Users\\Spencer\\anaconda3\\lib\\site-packages\\sklearn\\metrics\\_classification.py:1245: UndefinedMetricWarning: Precision is ill-defined and being set to 0.0 in labels with no predicted samples. Use `zero_division` parameter to control this behavior.\n",
      "  _warn_prf(average, modifier, msg_start, len(result))\n"
     ]
    }
   ],
   "source": [
    "# Inspiration https://towardsdatascience.com/confusion-matrix-for-your-multi-class-machine-learning-model-ff9aa3bf7826\n",
    "from sklearn.metrics import accuracy_score, precision_score, recall_score, f1_score\n",
    "print('\\nAccuracy: {:.2f}\\n'.format(accuracy_score(y_test, y_pred)))\n",
    "\n",
    "print('Micro Precision: {:.2f}'.format(precision_score(y_test, y_pred, average='micro')))\n",
    "print('Micro Recall: {:.2f}'.format(recall_score(y_test, y_pred, average='micro')))\n",
    "print('Micro F1-score: {:.2f}\\n'.format(f1_score(y_test, y_pred, average='micro')))\n",
    "\n",
    "print('Macro Precision: {:.2f}'.format(precision_score(y_test, y_pred, average='macro')))\n",
    "print('Macro Recall: {:.2f}'.format(recall_score(y_test, y_pred, average='macro')))\n",
    "print('Macro F1-score: {:.2f}\\n'.format(f1_score(y_test, y_pred, average='macro')))\n",
    "\n",
    "print('Weighted Precision: {:.2f}'.format(precision_score(y_test, y_pred, average='weighted')))\n",
    "print('Weighted Recall: {:.2f}'.format(recall_score(y_test, y_pred, average='weighted')))\n",
    "print('Weighted F1-score: {:.2f}'.format(f1_score(y_test, y_pred, average='weighted')))"
   ]
  },
  {
   "cell_type": "code",
   "execution_count": 30,
   "id": "4ed2faf4",
   "metadata": {},
   "outputs": [
    {
     "name": "stdout",
     "output_type": "stream",
     "text": [
      "\n",
      "Classification Report\n",
      "\n",
      "                                 precision    recall  f1-score   support\n",
      "\n",
      "             Sub-Saharan Africa       0.87      0.93      0.90        29\n",
      "     Central and Eastern Europe       0.67      0.64      0.65        22\n",
      "    Latin America and Caribbean       0.61      0.82      0.70        17\n",
      "                 Western Europe       0.71      0.75      0.73        16\n",
      "Middle East and Northern Africa       0.75      0.60      0.67        15\n",
      "              Southeastern Asia       0.80      0.57      0.67         7\n",
      "                  Southern Asia       0.50      0.40      0.44         5\n",
      "                   Eastern Asia       0.67      0.40      0.50         5\n",
      "                  North America       0.00      0.00      0.00         1\n",
      "      Australia and New Zealand       0.00      0.00      0.00         1\n",
      "\n",
      "                       accuracy                           0.71       118\n",
      "                      macro avg       0.56      0.51      0.53       118\n",
      "                   weighted avg       0.71      0.71      0.71       118\n",
      "\n"
     ]
    },
    {
     "name": "stderr",
     "output_type": "stream",
     "text": [
      "C:\\Users\\Spencer\\anaconda3\\lib\\site-packages\\sklearn\\metrics\\_classification.py:1245: UndefinedMetricWarning: Precision and F-score are ill-defined and being set to 0.0 in labels with no predicted samples. Use `zero_division` parameter to control this behavior.\n",
      "  _warn_prf(average, modifier, msg_start, len(result))\n",
      "C:\\Users\\Spencer\\anaconda3\\lib\\site-packages\\sklearn\\metrics\\_classification.py:1245: UndefinedMetricWarning: Precision and F-score are ill-defined and being set to 0.0 in labels with no predicted samples. Use `zero_division` parameter to control this behavior.\n",
      "  _warn_prf(average, modifier, msg_start, len(result))\n",
      "C:\\Users\\Spencer\\anaconda3\\lib\\site-packages\\sklearn\\metrics\\_classification.py:1245: UndefinedMetricWarning: Precision and F-score are ill-defined and being set to 0.0 in labels with no predicted samples. Use `zero_division` parameter to control this behavior.\n",
      "  _warn_prf(average, modifier, msg_start, len(result))\n"
     ]
    }
   ],
   "source": [
    "from sklearn.metrics import classification_report\n",
    "print('\\nClassification Report\\n')\n",
    "print(classification_report(y_test, y_pred, target_names=['Sub-Saharan Africa', 'Central and Eastern Europe', 'Latin America and Caribbean', \n",
    "                     'Western Europe', 'Middle East and Northern Africa', 'Southeastern Asia',\n",
    "                     'Southern Asia', 'Eastern Asia', 'North America', 'Australia and New Zealand']))"
   ]
  },
  {
   "cell_type": "code",
   "execution_count": null,
   "id": "58a3e4dc",
   "metadata": {},
   "outputs": [],
   "source": []
  }
 ],
 "metadata": {
  "kernelspec": {
   "display_name": "Python 3",
   "language": "python",
   "name": "python3"
  },
  "language_info": {
   "codemirror_mode": {
    "name": "ipython",
    "version": 3
   },
   "file_extension": ".py",
   "mimetype": "text/x-python",
   "name": "python",
   "nbconvert_exporter": "python",
   "pygments_lexer": "ipython3",
   "version": "3.8.8"
  }
 },
 "nbformat": 4,
 "nbformat_minor": 5
}
